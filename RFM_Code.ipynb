{
 "cells": [
  {
   "cell_type": "code",
   "execution_count": null,
   "metadata": {
    "id": "VoFAWYbMV_LV",
    "outputId": "27cfe466-acd7-4037-e099-af6d5392c192"
   },
   "outputs": [
    {
     "data": {
      "text/html": [
       "<div>\n",
       "<style scoped>\n",
       "    .dataframe tbody tr th:only-of-type {\n",
       "        vertical-align: middle;\n",
       "    }\n",
       "\n",
       "    .dataframe tbody tr th {\n",
       "        vertical-align: top;\n",
       "    }\n",
       "\n",
       "    .dataframe thead th {\n",
       "        text-align: right;\n",
       "    }\n",
       "</style>\n",
       "<table border=\"1\" class=\"dataframe\">\n",
       "  <thead>\n",
       "    <tr style=\"text-align: right;\">\n",
       "      <th></th>\n",
       "      <th>TransactionDate</th>\n",
       "      <th>TransactionAmount</th>\n",
       "      <th>CustomerID</th>\n",
       "    </tr>\n",
       "  </thead>\n",
       "  <tbody>\n",
       "    <tr>\n",
       "      <th>0</th>\n",
       "      <td>2010-12-01 08:26:00</td>\n",
       "      <td>2.55</td>\n",
       "      <td>17850.0</td>\n",
       "    </tr>\n",
       "    <tr>\n",
       "      <th>1</th>\n",
       "      <td>2010-12-01 08:26:00</td>\n",
       "      <td>3.39</td>\n",
       "      <td>17850.0</td>\n",
       "    </tr>\n",
       "    <tr>\n",
       "      <th>2</th>\n",
       "      <td>2010-12-01 08:26:00</td>\n",
       "      <td>2.75</td>\n",
       "      <td>17850.0</td>\n",
       "    </tr>\n",
       "    <tr>\n",
       "      <th>3</th>\n",
       "      <td>2010-12-01 08:26:00</td>\n",
       "      <td>3.39</td>\n",
       "      <td>17850.0</td>\n",
       "    </tr>\n",
       "    <tr>\n",
       "      <th>4</th>\n",
       "      <td>2010-12-01 08:26:00</td>\n",
       "      <td>3.39</td>\n",
       "      <td>17850.0</td>\n",
       "    </tr>\n",
       "  </tbody>\n",
       "</table>\n",
       "</div>"
      ],
      "text/plain": [
       "      TransactionDate  TransactionAmount  CustomerID\n",
       "0 2010-12-01 08:26:00               2.55     17850.0\n",
       "1 2010-12-01 08:26:00               3.39     17850.0\n",
       "2 2010-12-01 08:26:00               2.75     17850.0\n",
       "3 2010-12-01 08:26:00               3.39     17850.0\n",
       "4 2010-12-01 08:26:00               3.39     17850.0"
      ]
     },
     "execution_count": 1,
     "metadata": {},
     "output_type": "execute_result"
    }
   ],
   "source": [
    "import pandas as pd\n",
    "from datetime import datetime\n",
    "\n",
    "# Load the data\n",
    "df = pd.read_excel(\"RFM.xlsx\",sheet_name = 'data')  ## reading the data\n",
    "df.head()  ## top 5 rows of data"
   ]
  },
  {
   "cell_type": "code",
   "execution_count": null,
   "metadata": {
    "id": "oTMdCSMmV_LW",
    "outputId": "9ea58417-142c-4d6a-ec93-d951d47b9dfd"
   },
   "outputs": [
    {
     "data": {
      "text/html": [
       "<div>\n",
       "<style scoped>\n",
       "    .dataframe tbody tr th:only-of-type {\n",
       "        vertical-align: middle;\n",
       "    }\n",
       "\n",
       "    .dataframe tbody tr th {\n",
       "        vertical-align: top;\n",
       "    }\n",
       "\n",
       "    .dataframe thead th {\n",
       "        text-align: right;\n",
       "    }\n",
       "</style>\n",
       "<table border=\"1\" class=\"dataframe\">\n",
       "  <thead>\n",
       "    <tr style=\"text-align: right;\">\n",
       "      <th></th>\n",
       "      <th>TransactionDate</th>\n",
       "      <th>TransactionAmount</th>\n",
       "      <th>CustomerID</th>\n",
       "    </tr>\n",
       "  </thead>\n",
       "  <tbody>\n",
       "    <tr>\n",
       "      <th>0</th>\n",
       "      <td>2010-12-01 08:26:00</td>\n",
       "      <td>2.55</td>\n",
       "      <td>17850.0</td>\n",
       "    </tr>\n",
       "    <tr>\n",
       "      <th>1</th>\n",
       "      <td>2010-12-01 08:26:00</td>\n",
       "      <td>3.39</td>\n",
       "      <td>17850.0</td>\n",
       "    </tr>\n",
       "    <tr>\n",
       "      <th>2</th>\n",
       "      <td>2010-12-01 08:26:00</td>\n",
       "      <td>2.75</td>\n",
       "      <td>17850.0</td>\n",
       "    </tr>\n",
       "    <tr>\n",
       "      <th>3</th>\n",
       "      <td>2010-12-01 08:26:00</td>\n",
       "      <td>3.39</td>\n",
       "      <td>17850.0</td>\n",
       "    </tr>\n",
       "    <tr>\n",
       "      <th>4</th>\n",
       "      <td>2010-12-01 08:26:00</td>\n",
       "      <td>3.39</td>\n",
       "      <td>17850.0</td>\n",
       "    </tr>\n",
       "    <tr>\n",
       "      <th>...</th>\n",
       "      <td>...</td>\n",
       "      <td>...</td>\n",
       "      <td>...</td>\n",
       "    </tr>\n",
       "    <tr>\n",
       "      <th>86898</th>\n",
       "      <td>2011-02-10 14:38:00</td>\n",
       "      <td>4.95</td>\n",
       "      <td>17850.0</td>\n",
       "    </tr>\n",
       "    <tr>\n",
       "      <th>86899</th>\n",
       "      <td>2011-02-10 14:38:00</td>\n",
       "      <td>1.06</td>\n",
       "      <td>17850.0</td>\n",
       "    </tr>\n",
       "    <tr>\n",
       "      <th>86900</th>\n",
       "      <td>2011-02-10 14:38:00</td>\n",
       "      <td>2.75</td>\n",
       "      <td>17850.0</td>\n",
       "    </tr>\n",
       "    <tr>\n",
       "      <th>86901</th>\n",
       "      <td>2011-02-10 14:38:00</td>\n",
       "      <td>4.95</td>\n",
       "      <td>17850.0</td>\n",
       "    </tr>\n",
       "    <tr>\n",
       "      <th>86902</th>\n",
       "      <td>2011-02-10 14:38:00</td>\n",
       "      <td>1.45</td>\n",
       "      <td>17850.0</td>\n",
       "    </tr>\n",
       "  </tbody>\n",
       "</table>\n",
       "<p>312 rows × 3 columns</p>\n",
       "</div>"
      ],
      "text/plain": [
       "          TransactionDate  TransactionAmount  CustomerID\n",
       "0     2010-12-01 08:26:00               2.55     17850.0\n",
       "1     2010-12-01 08:26:00               3.39     17850.0\n",
       "2     2010-12-01 08:26:00               2.75     17850.0\n",
       "3     2010-12-01 08:26:00               3.39     17850.0\n",
       "4     2010-12-01 08:26:00               3.39     17850.0\n",
       "...                   ...                ...         ...\n",
       "86898 2011-02-10 14:38:00               4.95     17850.0\n",
       "86899 2011-02-10 14:38:00               1.06     17850.0\n",
       "86900 2011-02-10 14:38:00               2.75     17850.0\n",
       "86901 2011-02-10 14:38:00               4.95     17850.0\n",
       "86902 2011-02-10 14:38:00               1.45     17850.0\n",
       "\n",
       "[312 rows x 3 columns]"
      ]
     },
     "execution_count": 8,
     "metadata": {},
     "output_type": "execute_result"
    }
   ],
   "source": [
    "df[df.CustomerID == 17850.0]"
   ]
  },
  {
   "cell_type": "code",
   "execution_count": null,
   "metadata": {
    "id": "UewrgI5SV_LW",
    "outputId": "65cb61e4-b841-48e5-d029-e405d18a51be"
   },
   "outputs": [
    {
     "data": {
      "text/plain": [
       "(541910, 3)"
      ]
     },
     "execution_count": 2,
     "metadata": {},
     "output_type": "execute_result"
    }
   ],
   "source": [
    "df.shape ## rows, column"
   ]
  },
  {
   "cell_type": "code",
   "execution_count": null,
   "metadata": {
    "id": "iFdLaRpxV_LX",
    "outputId": "83a76236-4629-4ddd-b54c-a0270d06fc7d"
   },
   "outputs": [
    {
     "data": {
      "text/plain": [
       "4372"
      ]
     },
     "execution_count": 3,
     "metadata": {},
     "output_type": "execute_result"
    }
   ],
   "source": [
    "df.CustomerID.nunique()  ## nunique : gives the no of unique values in a column\n",
    "#df.CustomerID.unique()   ## unique : gives the unique values in a column\n",
    "#df.CustomerID.value_counts() ## value_counts : tells me how many times a value of a column is present in the table"
   ]
  },
  {
   "cell_type": "code",
   "execution_count": null,
   "metadata": {
    "id": "Kdwxh9DSV_LX",
    "outputId": "2b850f80-766a-43c7-bedb-f49b4149de00"
   },
   "outputs": [
    {
     "name": "stdout",
     "output_type": "stream",
     "text": [
      "<class 'pandas.core.frame.DataFrame'>\n",
      "RangeIndex: 541910 entries, 0 to 541909\n",
      "Data columns (total 3 columns):\n",
      " #   Column             Non-Null Count   Dtype         \n",
      "---  ------             --------------   -----         \n",
      " 0   TransactionDate    541910 non-null  datetime64[ns]\n",
      " 1   TransactionAmount  541910 non-null  float64       \n",
      " 2   CustomerID         541910 non-null  float64       \n",
      "dtypes: datetime64[ns](1), float64(2)\n",
      "memory usage: 12.4 MB\n"
     ]
    }
   ],
   "source": [
    "df.info()\n",
    "\n",
    "## 541910 - 406830 ## null values in customer ID column"
   ]
  },
  {
   "cell_type": "code",
   "execution_count": null,
   "metadata": {
    "id": "juXDFs1pV_LX"
   },
   "outputs": [],
   "source": [
    "df.fillna(-1,inplace=True)"
   ]
  },
  {
   "cell_type": "code",
   "execution_count": null,
   "metadata": {
    "id": "zhpb3j27V_LX",
    "outputId": "7bb72eae-f234-44cc-e152-eb2e3a81e968"
   },
   "outputs": [
    {
     "data": {
      "text/html": [
       "<div>\n",
       "<style scoped>\n",
       "    .dataframe tbody tr th:only-of-type {\n",
       "        vertical-align: middle;\n",
       "    }\n",
       "\n",
       "    .dataframe tbody tr th {\n",
       "        vertical-align: top;\n",
       "    }\n",
       "\n",
       "    .dataframe thead th {\n",
       "        text-align: right;\n",
       "    }\n",
       "</style>\n",
       "<table border=\"1\" class=\"dataframe\">\n",
       "  <thead>\n",
       "    <tr style=\"text-align: right;\">\n",
       "      <th></th>\n",
       "      <th>TransactionAmount</th>\n",
       "      <th>CustomerID</th>\n",
       "    </tr>\n",
       "  </thead>\n",
       "  <tbody>\n",
       "    <tr>\n",
       "      <th>count</th>\n",
       "      <td>541910.000000</td>\n",
       "      <td>541910.000000</td>\n",
       "    </tr>\n",
       "    <tr>\n",
       "      <th>mean</th>\n",
       "      <td>4.611138</td>\n",
       "      <td>11476.727625</td>\n",
       "    </tr>\n",
       "    <tr>\n",
       "      <th>std</th>\n",
       "      <td>96.759765</td>\n",
       "      <td>6778.324352</td>\n",
       "    </tr>\n",
       "    <tr>\n",
       "      <th>min</th>\n",
       "      <td>-11062.060000</td>\n",
       "      <td>-1.000000</td>\n",
       "    </tr>\n",
       "    <tr>\n",
       "      <th>25%</th>\n",
       "      <td>1.250000</td>\n",
       "      <td>12352.000000</td>\n",
       "    </tr>\n",
       "    <tr>\n",
       "      <th>50%</th>\n",
       "      <td>2.080000</td>\n",
       "      <td>14382.000000</td>\n",
       "    </tr>\n",
       "    <tr>\n",
       "      <th>75%</th>\n",
       "      <td>4.130000</td>\n",
       "      <td>16255.000000</td>\n",
       "    </tr>\n",
       "    <tr>\n",
       "      <th>max</th>\n",
       "      <td>38970.000000</td>\n",
       "      <td>18287.000000</td>\n",
       "    </tr>\n",
       "  </tbody>\n",
       "</table>\n",
       "</div>"
      ],
      "text/plain": [
       "       TransactionAmount     CustomerID\n",
       "count      541910.000000  541910.000000\n",
       "mean            4.611138   11476.727625\n",
       "std            96.759765    6778.324352\n",
       "min        -11062.060000      -1.000000\n",
       "25%             1.250000   12352.000000\n",
       "50%             2.080000   14382.000000\n",
       "75%             4.130000   16255.000000\n",
       "max         38970.000000   18287.000000"
      ]
     },
     "execution_count": 23,
     "metadata": {},
     "output_type": "execute_result"
    }
   ],
   "source": [
    "df.describe()  ## basic statistical analysis of my numeric variables"
   ]
  },
  {
   "cell_type": "code",
   "execution_count": null,
   "metadata": {
    "id": "ImuOPcPVV_LX"
   },
   "outputs": [],
   "source": [
    "# Convert TransactionDate to a datetime object\n",
    "\n",
    "df['TransactionDate'] = pd.to_datetime(df['TransactionDate'])"
   ]
  },
  {
   "cell_type": "code",
   "execution_count": null,
   "metadata": {
    "execution": {
     "iopub.execute_input": "2023-08-06T16:30:46.146046Z",
     "iopub.status.busy": "2023-08-06T16:30:46.145651Z",
     "iopub.status.idle": "2023-08-06T16:30:49.193935Z",
     "shell.execute_reply": "2023-08-06T16:30:49.192775Z",
     "shell.execute_reply.started": "2023-08-06T16:30:46.146016Z"
    },
    "id": "H2sCOYPDV_LX",
    "outputId": "150ce34b-23cb-4897-84e8-5549d614cf67"
   },
   "outputs": [
    {
     "name": "stdout",
     "output_type": "stream",
     "text": [
      "            Recency  Frequency  Monetary\n",
      "CustomerID                              \n",
      "12346.0        4872          2      2.08\n",
      "12347.0        4549        182    481.21\n",
      "12348.0        4622         31    178.71\n",
      "12349.0        4565         73    605.10\n",
      "12350.0        4857         17     65.30\n"
     ]
    }
   ],
   "source": [
    "#5 mar 2023 , 7 jul 23, 8 oct 23 , 5 jan 2024 , 3 mar 2024  ---> max txn date : 3 mar 2024 :\n",
    "\n",
    "## 24 may 2024 - 3 mar 2024 : convert it to days ---> recency value\n",
    "\n",
    "\n",
    "# Calculate Recency, Frequency, and Monetary Value for each customer\n",
    "today = datetime(2024, 6, 21)   ## today's date to calculate the recency : recency = last order date - today's date\n",
    "\n",
    "rfm = df.groupby('CustomerID').agg({\n",
    "    'TransactionDate': lambda x: (today - x.max()).days,   ## give me the diff of max(txn date) of a customer & today's date\n",
    "    'CustomerID': 'count',      ### Frequency of the customer txn\n",
    "    'TransactionAmount': 'sum'  ### total spend of the customer\n",
    "})\n",
    "\n",
    "# Rename the columns for clarity\n",
    "rfm.rename(columns={\n",
    "    'TransactionDate': 'Recency',\n",
    "    'CustomerID': 'Frequency',\n",
    "    'TransactionAmount': 'Monetary'\n",
    "}, inplace=True)\n",
    "\n",
    "print(rfm.head())"
   ]
  },
  {
   "cell_type": "code",
   "execution_count": null,
   "metadata": {
    "id": "XKVOfL27V_LX",
    "outputId": "99be5bff-c834-4f7f-a874-13aab905acce"
   },
   "outputs": [
    {
     "data": {
      "text/html": [
       "<div>\n",
       "<style scoped>\n",
       "    .dataframe tbody tr th:only-of-type {\n",
       "        vertical-align: middle;\n",
       "    }\n",
       "\n",
       "    .dataframe tbody tr th {\n",
       "        vertical-align: top;\n",
       "    }\n",
       "\n",
       "    .dataframe thead th {\n",
       "        text-align: right;\n",
       "    }\n",
       "</style>\n",
       "<table border=\"1\" class=\"dataframe\">\n",
       "  <thead>\n",
       "    <tr style=\"text-align: right;\">\n",
       "      <th></th>\n",
       "      <th>TransactionDate</th>\n",
       "      <th>TransactionAmount</th>\n",
       "      <th>CustomerID</th>\n",
       "    </tr>\n",
       "  </thead>\n",
       "  <tbody>\n",
       "    <tr>\n",
       "      <th>61619</th>\n",
       "      <td>2011-01-18 10:01:00</td>\n",
       "      <td>1.04</td>\n",
       "      <td>12346.0</td>\n",
       "    </tr>\n",
       "    <tr>\n",
       "      <th>61624</th>\n",
       "      <td>2011-01-18 10:17:00</td>\n",
       "      <td>1.04</td>\n",
       "      <td>12346.0</td>\n",
       "    </tr>\n",
       "  </tbody>\n",
       "</table>\n",
       "</div>"
      ],
      "text/plain": [
       "          TransactionDate  TransactionAmount  CustomerID\n",
       "61619 2011-01-18 10:01:00               1.04     12346.0\n",
       "61624 2011-01-18 10:17:00               1.04     12346.0"
      ]
     },
     "execution_count": 9,
     "metadata": {},
     "output_type": "execute_result"
    }
   ],
   "source": [
    "df[df.CustomerID == 12346]  ## this particular customer"
   ]
  },
  {
   "cell_type": "code",
   "execution_count": null,
   "metadata": {
    "id": "1X-u1PgZV_LX",
    "outputId": "27351e77-d63d-42e6-e7d8-f8d24cf9e975"
   },
   "outputs": [
    {
     "data": {
      "text/plain": [
       "13.311475409836065"
      ]
     },
     "execution_count": 18,
     "metadata": {},
     "output_type": "execute_result"
    }
   ],
   "source": [
    "x = 4872/366\n",
    "x"
   ]
  },
  {
   "cell_type": "code",
   "execution_count": null,
   "metadata": {
    "id": "ZQntT7N5V_LY",
    "outputId": "8fbb1b88-3b5a-4286-e81d-566598002d0f"
   },
   "outputs": [
    {
     "data": {
      "text/plain": [
       "(4372, 3)"
      ]
     },
     "execution_count": 19,
     "metadata": {},
     "output_type": "execute_result"
    }
   ],
   "source": [
    "rfm.shape  ## 4372 customers"
   ]
  },
  {
   "cell_type": "markdown",
   "metadata": {
    "id": "1eoRlLczV_LY"
   },
   "source": [
    "# Step 3: RFM Segmentation\n",
    "\n",
    "> Next, we'll segment the customers based on their RFM scores.\n",
    "* To do this, we'll divide each RFM metric into quartiles (or any other relevant segments) to create meaningful segments."
   ]
  },
  {
   "cell_type": "code",
   "execution_count": null,
   "metadata": {
    "execution": {
     "iopub.execute_input": "2023-08-06T16:38:22.203947Z",
     "iopub.status.busy": "2023-08-06T16:38:22.203553Z",
     "iopub.status.idle": "2023-08-06T16:38:22.570677Z",
     "shell.execute_reply": "2023-08-06T16:38:22.569457Z",
     "shell.execute_reply.started": "2023-08-06T16:38:22.203917Z"
    },
    "id": "HI22X5z1V_LY",
    "outputId": "c0f7fe7a-3322-4285-e804-e71011d19012"
   },
   "outputs": [
    {
     "name": "stdout",
     "output_type": "stream",
     "text": [
      "            Recency  Frequency  Monetary RFM_Segment\n",
      "CustomerID                                          \n",
      "12346.0        4872          2      2.08         444\n",
      "12347.0        4549        182    481.21         111\n",
      "12348.0        4622         31    178.71         332\n",
      "12349.0        4565         73    605.10         221\n",
      "12350.0        4857         17     65.30         443\n"
     ]
    }
   ],
   "source": [
    "# Create quartiles for Recency, Frequency, and Monetary\n",
    "quantiles = rfm.quantile(q=[0.25, 0.5, 0.75])\n",
    "\n",
    "# Create a function to assign RFM scores and segments\n",
    "def rfm_segment(row):\n",
    "    r_score = 1 if row['Recency'] <= quantiles['Recency'][0.25] else 2 if row['Recency'] <= quantiles['Recency'][0.5] else 3 if row['Recency'] <= quantiles['Recency'][0.75] else 4\n",
    "    f_score = 4 if row['Frequency'] <= quantiles['Frequency'][0.25] else 3 if row['Frequency'] <= quantiles['Frequency'][0.5] else 2 if row['Frequency'] <= quantiles['Frequency'][0.75] else 1\n",
    "    m_score = 4 if row['Monetary'] <= quantiles['Monetary'][0.25] else 3 if row['Monetary'] <= quantiles['Monetary'][0.5] else 2 if row['Monetary'] <= quantiles['Monetary'][0.75] else 1\n",
    "    return str(r_score) + str(f_score) + str(m_score)\n",
    "\n",
    "## recency score is better if it is lower :\n",
    "## frequency score is better if it is lower :\n",
    "## monetary score is better if it is lower :\n",
    "\n",
    "#recency value : less , r score is best at 1\n",
    "#freqyency value : less , f score is best at 1\n",
    "#monetary value : less , m score is best at 1\n",
    "\n",
    "## best customer : 111 , worst customer : 444\n",
    "\n",
    "# Assign RFM scores and segments to each customer\n",
    "rfm['RFM_Segment'] = rfm.apply(rfm_segment, axis=1)\n",
    "print(rfm.head())"
   ]
  },
  {
   "cell_type": "code",
   "execution_count": null,
   "metadata": {
    "id": "6tHqHkzZV_LY"
   },
   "outputs": [],
   "source": []
  },
  {
   "cell_type": "code",
   "execution_count": null,
   "metadata": {
    "id": "MMmTvzV8V_LY"
   },
   "outputs": [],
   "source": [
    "##   R     F     M\n",
    "A : 1/2 , 3/4 , 3/4\n",
    "B : 1/2 , 3/4 , 1/2\n",
    "C : 3/4 , 3/4 , 3/4\n",
    "D : 3/4 , 1/2 , 1/2"
   ]
  },
  {
   "cell_type": "code",
   "execution_count": null,
   "metadata": {
    "id": "RJM3nb7bV_LY"
   },
   "outputs": [],
   "source": []
  },
  {
   "cell_type": "markdown",
   "metadata": {
    "id": "KeYdWeLcV_LY"
   },
   "source": []
  }
 ],
 "metadata": {
  "colab": {
   "provenance": []
  },
  "kernelspec": {
   "display_name": "Python 3 (ipykernel)",
   "language": "python",
   "name": "python3"
  },
  "language_info": {
   "codemirror_mode": {
    "name": "ipython",
    "version": 3
   },
   "file_extension": ".py",
   "mimetype": "text/x-python",
   "name": "python",
   "nbconvert_exporter": "python",
   "pygments_lexer": "ipython3",
   "version": "3.12.4"
  }
 },
 "nbformat": 4,
 "nbformat_minor": 4
}
